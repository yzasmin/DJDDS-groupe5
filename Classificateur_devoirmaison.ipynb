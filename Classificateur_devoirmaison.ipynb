{
  "nbformat": 4,
  "nbformat_minor": 0,
  "metadata": {
    "colab": {
      "provenance": []
    },
    "kernelspec": {
      "name": "python3",
      "display_name": "Python 3"
    },
    "language_info": {
      "name": "python"
    }
  },
  "cells": [
    {
      "cell_type": "markdown",
      "source": [
        "#Devoir classifiacation : groupe 5\n"
      ],
      "metadata": {
        "id": "wxm1Ed9-cyak"
      }
    },
    {
      "cell_type": "markdown",
      "source": [],
      "metadata": {
        "id": "WBIbhTDqd6sF"
      }
    },
    {
      "cell_type": "code",
      "source": [
        "import pandas as pd\n",
        "from sklearn.model_selection import train_test_split\n",
        "from sklearn.naive_bayes import GaussianNB\n",
        "from sklearn.metrics import roc_auc_score\n",
        "import seaborn as sns\n",
        "import numpy as np\n",
        "import matplotlib.pyplot as plt\n",
        "import seaborn as sns\n",
        "from sklearn.linear_model import LogisticRegression\n",
        "from sklearn.metrics import roc_auc_score, roc_curve\n",
        "from sklearn.model_selection import GridSearchCV\n",
        "\n",
        "\n",
        "# Étape 1 : Chargement des données\n",
        "df = pd.read_csv('/content/farms_train.csv', sep=';', decimal=',')\n",
        "\n",
        "# Afficher les premières lignes pour vérifier la structure des données\n",
        "df.head()"
      ],
      "metadata": {
        "colab": {
          "base_uri": "https://localhost:8080/",
          "height": 226
        },
        "id": "riqa-yG0eMf5",
        "outputId": "5023081b-1bc6-45e3-e322-72f6c67aa05d"
      },
      "execution_count": null,
      "outputs": [
        {
          "output_type": "execute_result",
          "data": {
            "text/plain": [
              "   DIFF     R2     R7      R8     R17     R22     R32\n",
              "0     0  0,705   0,29  0,1334  0,0481  0,5258  0,2941\n",
              "1     1  0,801  0,213  0,1282  0,0186  2,1411  0,3005\n",
              "2     1  0,591  0,429  0,2999    0,08  0,5957  0,4126\n",
              "3     0  0,373  0,346  1,3704  0,0812   0,343  0,2265\n",
              "4     0      0  1,417  0,2493  0,0501  0,8728  0,1086"
            ],
            "text/html": [
              "\n",
              "  <div id=\"df-a8e88ebe-0f6e-46d2-8b6e-21d14d6a0d1f\" class=\"colab-df-container\">\n",
              "    <div>\n",
              "<style scoped>\n",
              "    .dataframe tbody tr th:only-of-type {\n",
              "        vertical-align: middle;\n",
              "    }\n",
              "\n",
              "    .dataframe tbody tr th {\n",
              "        vertical-align: top;\n",
              "    }\n",
              "\n",
              "    .dataframe thead th {\n",
              "        text-align: right;\n",
              "    }\n",
              "</style>\n",
              "<table border=\"1\" class=\"dataframe\">\n",
              "  <thead>\n",
              "    <tr style=\"text-align: right;\">\n",
              "      <th></th>\n",
              "      <th>DIFF</th>\n",
              "      <th>R2</th>\n",
              "      <th>R7</th>\n",
              "      <th>R8</th>\n",
              "      <th>R17</th>\n",
              "      <th>R22</th>\n",
              "      <th>R32</th>\n",
              "    </tr>\n",
              "  </thead>\n",
              "  <tbody>\n",
              "    <tr>\n",
              "      <th>0</th>\n",
              "      <td>0</td>\n",
              "      <td>0,705</td>\n",
              "      <td>0,29</td>\n",
              "      <td>0,1334</td>\n",
              "      <td>0,0481</td>\n",
              "      <td>0,5258</td>\n",
              "      <td>0,2941</td>\n",
              "    </tr>\n",
              "    <tr>\n",
              "      <th>1</th>\n",
              "      <td>1</td>\n",
              "      <td>0,801</td>\n",
              "      <td>0,213</td>\n",
              "      <td>0,1282</td>\n",
              "      <td>0,0186</td>\n",
              "      <td>2,1411</td>\n",
              "      <td>0,3005</td>\n",
              "    </tr>\n",
              "    <tr>\n",
              "      <th>2</th>\n",
              "      <td>1</td>\n",
              "      <td>0,591</td>\n",
              "      <td>0,429</td>\n",
              "      <td>0,2999</td>\n",
              "      <td>0,08</td>\n",
              "      <td>0,5957</td>\n",
              "      <td>0,4126</td>\n",
              "    </tr>\n",
              "    <tr>\n",
              "      <th>3</th>\n",
              "      <td>0</td>\n",
              "      <td>0,373</td>\n",
              "      <td>0,346</td>\n",
              "      <td>1,3704</td>\n",
              "      <td>0,0812</td>\n",
              "      <td>0,343</td>\n",
              "      <td>0,2265</td>\n",
              "    </tr>\n",
              "    <tr>\n",
              "      <th>4</th>\n",
              "      <td>0</td>\n",
              "      <td>0</td>\n",
              "      <td>1,417</td>\n",
              "      <td>0,2493</td>\n",
              "      <td>0,0501</td>\n",
              "      <td>0,8728</td>\n",
              "      <td>0,1086</td>\n",
              "    </tr>\n",
              "  </tbody>\n",
              "</table>\n",
              "</div>\n",
              "    <div class=\"colab-df-buttons\">\n",
              "\n",
              "  <div class=\"colab-df-container\">\n",
              "    <button class=\"colab-df-convert\" onclick=\"convertToInteractive('df-a8e88ebe-0f6e-46d2-8b6e-21d14d6a0d1f')\"\n",
              "            title=\"Convert this dataframe to an interactive table.\"\n",
              "            style=\"display:none;\">\n",
              "\n",
              "  <svg xmlns=\"http://www.w3.org/2000/svg\" height=\"24px\" viewBox=\"0 -960 960 960\">\n",
              "    <path d=\"M120-120v-720h720v720H120Zm60-500h600v-160H180v160Zm220 220h160v-160H400v160Zm0 220h160v-160H400v160ZM180-400h160v-160H180v160Zm440 0h160v-160H620v160ZM180-180h160v-160H180v160Zm440 0h160v-160H620v160Z\"/>\n",
              "  </svg>\n",
              "    </button>\n",
              "\n",
              "  <style>\n",
              "    .colab-df-container {\n",
              "      display:flex;\n",
              "      gap: 12px;\n",
              "    }\n",
              "\n",
              "    .colab-df-convert {\n",
              "      background-color: #E8F0FE;\n",
              "      border: none;\n",
              "      border-radius: 50%;\n",
              "      cursor: pointer;\n",
              "      display: none;\n",
              "      fill: #1967D2;\n",
              "      height: 32px;\n",
              "      padding: 0 0 0 0;\n",
              "      width: 32px;\n",
              "    }\n",
              "\n",
              "    .colab-df-convert:hover {\n",
              "      background-color: #E2EBFA;\n",
              "      box-shadow: 0px 1px 2px rgba(60, 64, 67, 0.3), 0px 1px 3px 1px rgba(60, 64, 67, 0.15);\n",
              "      fill: #174EA6;\n",
              "    }\n",
              "\n",
              "    .colab-df-buttons div {\n",
              "      margin-bottom: 4px;\n",
              "    }\n",
              "\n",
              "    [theme=dark] .colab-df-convert {\n",
              "      background-color: #3B4455;\n",
              "      fill: #D2E3FC;\n",
              "    }\n",
              "\n",
              "    [theme=dark] .colab-df-convert:hover {\n",
              "      background-color: #434B5C;\n",
              "      box-shadow: 0px 1px 3px 1px rgba(0, 0, 0, 0.15);\n",
              "      filter: drop-shadow(0px 1px 2px rgba(0, 0, 0, 0.3));\n",
              "      fill: #FFFFFF;\n",
              "    }\n",
              "  </style>\n",
              "\n",
              "    <script>\n",
              "      const buttonEl =\n",
              "        document.querySelector('#df-a8e88ebe-0f6e-46d2-8b6e-21d14d6a0d1f button.colab-df-convert');\n",
              "      buttonEl.style.display =\n",
              "        google.colab.kernel.accessAllowed ? 'block' : 'none';\n",
              "\n",
              "      async function convertToInteractive(key) {\n",
              "        const element = document.querySelector('#df-a8e88ebe-0f6e-46d2-8b6e-21d14d6a0d1f');\n",
              "        const dataTable =\n",
              "          await google.colab.kernel.invokeFunction('convertToInteractive',\n",
              "                                                    [key], {});\n",
              "        if (!dataTable) return;\n",
              "\n",
              "        const docLinkHtml = 'Like what you see? Visit the ' +\n",
              "          '<a target=\"_blank\" href=https://colab.research.google.com/notebooks/data_table.ipynb>data table notebook</a>'\n",
              "          + ' to learn more about interactive tables.';\n",
              "        element.innerHTML = '';\n",
              "        dataTable['output_type'] = 'display_data';\n",
              "        await google.colab.output.renderOutput(dataTable, element);\n",
              "        const docLink = document.createElement('div');\n",
              "        docLink.innerHTML = docLinkHtml;\n",
              "        element.appendChild(docLink);\n",
              "      }\n",
              "    </script>\n",
              "  </div>\n",
              "\n",
              "\n",
              "<div id=\"df-9bfb00fa-8e9f-4c95-8098-50ab99df45d4\">\n",
              "  <button class=\"colab-df-quickchart\" onclick=\"quickchart('df-9bfb00fa-8e9f-4c95-8098-50ab99df45d4')\"\n",
              "            title=\"Suggest charts\"\n",
              "            style=\"display:none;\">\n",
              "\n",
              "<svg xmlns=\"http://www.w3.org/2000/svg\" height=\"24px\"viewBox=\"0 0 24 24\"\n",
              "     width=\"24px\">\n",
              "    <g>\n",
              "        <path d=\"M19 3H5c-1.1 0-2 .9-2 2v14c0 1.1.9 2 2 2h14c1.1 0 2-.9 2-2V5c0-1.1-.9-2-2-2zM9 17H7v-7h2v7zm4 0h-2V7h2v10zm4 0h-2v-4h2v4z\"/>\n",
              "    </g>\n",
              "</svg>\n",
              "  </button>\n",
              "\n",
              "<style>\n",
              "  .colab-df-quickchart {\n",
              "      --bg-color: #E8F0FE;\n",
              "      --fill-color: #1967D2;\n",
              "      --hover-bg-color: #E2EBFA;\n",
              "      --hover-fill-color: #174EA6;\n",
              "      --disabled-fill-color: #AAA;\n",
              "      --disabled-bg-color: #DDD;\n",
              "  }\n",
              "\n",
              "  [theme=dark] .colab-df-quickchart {\n",
              "      --bg-color: #3B4455;\n",
              "      --fill-color: #D2E3FC;\n",
              "      --hover-bg-color: #434B5C;\n",
              "      --hover-fill-color: #FFFFFF;\n",
              "      --disabled-bg-color: #3B4455;\n",
              "      --disabled-fill-color: #666;\n",
              "  }\n",
              "\n",
              "  .colab-df-quickchart {\n",
              "    background-color: var(--bg-color);\n",
              "    border: none;\n",
              "    border-radius: 50%;\n",
              "    cursor: pointer;\n",
              "    display: none;\n",
              "    fill: var(--fill-color);\n",
              "    height: 32px;\n",
              "    padding: 0;\n",
              "    width: 32px;\n",
              "  }\n",
              "\n",
              "  .colab-df-quickchart:hover {\n",
              "    background-color: var(--hover-bg-color);\n",
              "    box-shadow: 0 1px 2px rgba(60, 64, 67, 0.3), 0 1px 3px 1px rgba(60, 64, 67, 0.15);\n",
              "    fill: var(--button-hover-fill-color);\n",
              "  }\n",
              "\n",
              "  .colab-df-quickchart-complete:disabled,\n",
              "  .colab-df-quickchart-complete:disabled:hover {\n",
              "    background-color: var(--disabled-bg-color);\n",
              "    fill: var(--disabled-fill-color);\n",
              "    box-shadow: none;\n",
              "  }\n",
              "\n",
              "  .colab-df-spinner {\n",
              "    border: 2px solid var(--fill-color);\n",
              "    border-color: transparent;\n",
              "    border-bottom-color: var(--fill-color);\n",
              "    animation:\n",
              "      spin 1s steps(1) infinite;\n",
              "  }\n",
              "\n",
              "  @keyframes spin {\n",
              "    0% {\n",
              "      border-color: transparent;\n",
              "      border-bottom-color: var(--fill-color);\n",
              "      border-left-color: var(--fill-color);\n",
              "    }\n",
              "    20% {\n",
              "      border-color: transparent;\n",
              "      border-left-color: var(--fill-color);\n",
              "      border-top-color: var(--fill-color);\n",
              "    }\n",
              "    30% {\n",
              "      border-color: transparent;\n",
              "      border-left-color: var(--fill-color);\n",
              "      border-top-color: var(--fill-color);\n",
              "      border-right-color: var(--fill-color);\n",
              "    }\n",
              "    40% {\n",
              "      border-color: transparent;\n",
              "      border-right-color: var(--fill-color);\n",
              "      border-top-color: var(--fill-color);\n",
              "    }\n",
              "    60% {\n",
              "      border-color: transparent;\n",
              "      border-right-color: var(--fill-color);\n",
              "    }\n",
              "    80% {\n",
              "      border-color: transparent;\n",
              "      border-right-color: var(--fill-color);\n",
              "      border-bottom-color: var(--fill-color);\n",
              "    }\n",
              "    90% {\n",
              "      border-color: transparent;\n",
              "      border-bottom-color: var(--fill-color);\n",
              "    }\n",
              "  }\n",
              "</style>\n",
              "\n",
              "  <script>\n",
              "    async function quickchart(key) {\n",
              "      const quickchartButtonEl =\n",
              "        document.querySelector('#' + key + ' button');\n",
              "      quickchartButtonEl.disabled = true;  // To prevent multiple clicks.\n",
              "      quickchartButtonEl.classList.add('colab-df-spinner');\n",
              "      try {\n",
              "        const charts = await google.colab.kernel.invokeFunction(\n",
              "            'suggestCharts', [key], {});\n",
              "      } catch (error) {\n",
              "        console.error('Error during call to suggestCharts:', error);\n",
              "      }\n",
              "      quickchartButtonEl.classList.remove('colab-df-spinner');\n",
              "      quickchartButtonEl.classList.add('colab-df-quickchart-complete');\n",
              "    }\n",
              "    (() => {\n",
              "      let quickchartButtonEl =\n",
              "        document.querySelector('#df-9bfb00fa-8e9f-4c95-8098-50ab99df45d4 button');\n",
              "      quickchartButtonEl.style.display =\n",
              "        google.colab.kernel.accessAllowed ? 'block' : 'none';\n",
              "    })();\n",
              "  </script>\n",
              "</div>\n",
              "\n",
              "    </div>\n",
              "  </div>\n"
            ],
            "application/vnd.google.colaboratory.intrinsic+json": {
              "type": "dataframe",
              "variable_name": "df",
              "summary": "{\n  \"name\": \"df\",\n  \"rows\": 398,\n  \"fields\": [\n    {\n      \"column\": \"DIFF\",\n      \"properties\": {\n        \"dtype\": \"number\",\n        \"std\": 0,\n        \"min\": 0,\n        \"max\": 1,\n        \"num_unique_values\": 2,\n        \"samples\": [\n          1,\n          0\n        ],\n        \"semantic_type\": \"\",\n        \"description\": \"\"\n      }\n    },\n    {\n      \"column\": \"R2\",\n      \"properties\": {\n        \"dtype\": \"string\",\n        \"num_unique_values\": 296,\n        \"samples\": [\n          \"0.726\",\n          \"0,902\"\n        ],\n        \"semantic_type\": \"\",\n        \"description\": \"\"\n      }\n    },\n    {\n      \"column\": \"R7\",\n      \"properties\": {\n        \"dtype\": \"string\",\n        \"num_unique_values\": 339,\n        \"samples\": [\n          \"1.241\",\n          \"0,402\"\n        ],\n        \"semantic_type\": \"\",\n        \"description\": \"\"\n      }\n    },\n    {\n      \"column\": \"R8\",\n      \"properties\": {\n        \"dtype\": \"string\",\n        \"num_unique_values\": 361,\n        \"samples\": [\n          \"1,1702\",\n          \"0,2805\"\n        ],\n        \"semantic_type\": \"\",\n        \"description\": \"\"\n      }\n    },\n    {\n      \"column\": \"R17\",\n      \"properties\": {\n        \"dtype\": \"string\",\n        \"num_unique_values\": 327,\n        \"samples\": [\n          \"0,0647\",\n          \"0,0791\"\n        ],\n        \"semantic_type\": \"\",\n        \"description\": \"\"\n      }\n    },\n    {\n      \"column\": \"R22\",\n      \"properties\": {\n        \"dtype\": \"string\",\n        \"num_unique_values\": 371,\n        \"samples\": [\n          \"0.368\",\n          \"0,8046\"\n        ],\n        \"semantic_type\": \"\",\n        \"description\": \"\"\n      }\n    },\n    {\n      \"column\": \"R32\",\n      \"properties\": {\n        \"dtype\": \"string\",\n        \"num_unique_values\": 368,\n        \"samples\": [\n          \"0,2806\",\n          \"0,1882\"\n        ],\n        \"semantic_type\": \"\",\n        \"description\": \"\"\n      }\n    }\n  ]\n}"
            }
          },
          "metadata": {},
          "execution_count": 60
        }
      ]
    },
    {
      "cell_type": "code",
      "source": [
        "# Afficher les NAN pour le traitement des données\n",
        "df.isna().sum()\n",
        "\n",
        "# Identifier les colonnes de type 'object'\n",
        "object_columns = df.select_dtypes(include=['object']).columns\n",
        "\n",
        "# Nettoyer et convertir les colonnes de type 'object' en float\n",
        "for col in object_columns:\n",
        "    df[col] = df[col].str.replace(',', '.').str.strip()  # Remplacer ',' par '.' si nécessaire\n",
        "    df[col] = pd.to_numeric(df[col], errors='coerce')    # Convertir en float, NaN pour erreurs\n",
        "\n",
        "# Vérifier les types après la conversion\n",
        "print(df.dtypes)"
      ],
      "metadata": {
        "colab": {
          "base_uri": "https://localhost:8080/"
        },
        "id": "gAa6ZuI4hWpd",
        "outputId": "18b9e8a9-fa5e-4390-d8b7-8069d288b650"
      },
      "execution_count": null,
      "outputs": [
        {
          "output_type": "stream",
          "name": "stdout",
          "text": [
            "DIFF      int64\n",
            "R2      float64\n",
            "R7      float64\n",
            "R8      float64\n",
            "R17     float64\n",
            "R22     float64\n",
            "R32     float64\n",
            "dtype: object\n"
          ]
        }
      ]
    },
    {
      "cell_type": "code",
      "source": [
        "# Visualisation de la distribution de la variable cible\n",
        "sns.countplot(x='DIFF', data=df)\n",
        "plt.title('Distribution de la variable cible (DIFF)')\n",
        "plt.xlabel('DIFF')\n",
        "plt.ylabel('Nombre d\\'exploitations')\n",
        "plt.show()"
      ],
      "metadata": {
        "colab": {
          "base_uri": "https://localhost:8080/",
          "height": 492
        },
        "id": "DkNBVf2Cd65u",
        "outputId": "b2df07af-bf13-48b7-a4d1-d4e49a170cc9"
      },
      "execution_count": null,
      "outputs": [
        {
          "output_type": "display_data",
          "data": {
            "text/plain": [
              "<Figure size 640x480 with 1 Axes>"
            ],
            "image/png": "[encoded data removed]"
          },
          "metadata": {}
        }
      ]
    },
    {
      "cell_type": "code",
      "source": [
        "# Variables explicatives\n",
        "# Visualisation avec des boîtes à moustaches\n",
        "plt.figure(figsize=(14, 8))\n",
        "df.plot(kind='box', vert=False, patch_artist=True, showfliers=True)\n",
        "plt.xlabel('Valeurs')\n",
        "plt.title('Répartition des variables sans DIFF')\n",
        "plt.show()"
      ],
      "metadata": {
        "colab": {
          "base_uri": "https://localhost:8080/",
          "height": 509
        },
        "id": "szILHtcoeaMr",
        "outputId": "b90b07b6-2e94-4e23-df77-2293d5cd4afb"
      },
      "execution_count": null,
      "outputs": [
        {
          "output_type": "display_data",
          "data": {
            "text/plain": [
              "<Figure size 1400x800 with 0 Axes>"
            ]
          },
          "metadata": {}
        },
        {
          "output_type": "display_data",
          "data": {
            "text/plain": [
              "<Figure size 640x480 with 1 Axes>"
            ],
            "image/png": "[encoded data removed]"
          },
          "metadata": {}
        }
      ]
    },
    {
      "cell_type": "markdown",
      "source": [
        "Suppression d'un point trop influent\n"
      ],
      "metadata": {
        "id": "mDQqKuxlhusy"
      }
    },
    {
      "cell_type": "code",
      "source": [
        "df.R22.describe()"
      ],
      "metadata": {
        "colab": {
          "base_uri": "https://localhost:8080/",
          "height": 355
        },
        "id": "F3gb36v6nUt9",
        "outputId": "850c8750-931a-4a59-9423-eb914b747a27"
      },
      "execution_count": null,
      "outputs": [
        {
          "output_type": "execute_result",
          "data": {
            "text/plain": [
              "count    398.000000\n",
              "mean       0.673835\n",
              "std        0.797979\n",
              "min        0.055390\n",
              "25%        0.285525\n",
              "50%        0.480500\n",
              "75%        0.782050\n",
              "max       10.840000\n",
              "Name: R22, dtype: float64"
            ],
            "text/html": [
              "<div>\n",
              "<style scoped>\n",
              "    .dataframe tbody tr th:only-of-type {\n",
              "        vertical-align: middle;\n",
              "    }\n",
              "\n",
              "    .dataframe tbody tr th {\n",
              "        vertical-align: top;\n",
              "    }\n",
              "\n",
              "    .dataframe thead th {\n",
              "        text-align: right;\n",
              "    }\n",
              "</style>\n",
              "<table border=\"1\" class=\"dataframe\">\n",
              "  <thead>\n",
              "    <tr style=\"text-align: right;\">\n",
              "      <th></th>\n",
              "      <th>R22</th>\n",
              "    </tr>\n",
              "  </thead>\n",
              "  <tbody>\n",
              "    <tr>\n",
              "      <th>count</th>\n",
              "      <td>398.000000</td>\n",
              "    </tr>\n",
              "    <tr>\n",
              "      <th>mean</th>\n",
              "      <td>0.673835</td>\n",
              "    </tr>\n",
              "    <tr>\n",
              "      <th>std</th>\n",
              "      <td>0.797979</td>\n",
              "    </tr>\n",
              "    <tr>\n",
              "      <th>min</th>\n",
              "      <td>0.055390</td>\n",
              "    </tr>\n",
              "    <tr>\n",
              "      <th>25%</th>\n",
              "      <td>0.285525</td>\n",
              "    </tr>\n",
              "    <tr>\n",
              "      <th>50%</th>\n",
              "      <td>0.480500</td>\n",
              "    </tr>\n",
              "    <tr>\n",
              "      <th>75%</th>\n",
              "      <td>0.782050</td>\n",
              "    </tr>\n",
              "    <tr>\n",
              "      <th>max</th>\n",
              "      <td>10.840000</td>\n",
              "    </tr>\n",
              "  </tbody>\n",
              "</table>\n",
              "</div><br><label><b>dtype:</b> float64</label>"
            ]
          },
          "metadata": {},
          "execution_count": 46
        }
      ]
    },
    {
      "cell_type": "code",
      "source": [
        "idR22 = df.R22.idxmax()\n",
        "df = df.drop(49)"
      ],
      "metadata": {
        "id": "mdMeMhQuh27P"
      },
      "execution_count": null,
      "outputs": []
    },
    {
      "cell_type": "code",
      "source": [
        "df.R22.describe()"
      ],
      "metadata": {
        "colab": {
          "base_uri": "https://localhost:8080/",
          "height": 355
        },
        "id": "VH4GAPNTnZ2p",
        "outputId": "98ec3b9f-21b9-4f8f-c8e8-5d08bcca98d9"
      },
      "execution_count": null,
      "outputs": [
        {
          "output_type": "execute_result",
          "data": {
            "text/plain": [
              "count    397.000000\n",
              "mean       0.648228\n",
              "std        0.613786\n",
              "min        0.055390\n",
              "25%        0.285200\n",
              "50%        0.479300\n",
              "75%        0.779800\n",
              "max        5.110900\n",
              "Name: R22, dtype: float64"
            ],
            "text/html": [
              "<div>\n",
              "<style scoped>\n",
              "    .dataframe tbody tr th:only-of-type {\n",
              "        vertical-align: middle;\n",
              "    }\n",
              "\n",
              "    .dataframe tbody tr th {\n",
              "        vertical-align: top;\n",
              "    }\n",
              "\n",
              "    .dataframe thead th {\n",
              "        text-align: right;\n",
              "    }\n",
              "</style>\n",
              "<table border=\"1\" class=\"dataframe\">\n",
              "  <thead>\n",
              "    <tr style=\"text-align: right;\">\n",
              "      <th></th>\n",
              "      <th>R22</th>\n",
              "    </tr>\n",
              "  </thead>\n",
              "  <tbody>\n",
              "    <tr>\n",
              "      <th>count</th>\n",
              "      <td>397.000000</td>\n",
              "    </tr>\n",
              "    <tr>\n",
              "      <th>mean</th>\n",
              "      <td>0.648228</td>\n",
              "    </tr>\n",
              "    <tr>\n",
              "      <th>std</th>\n",
              "      <td>0.613786</td>\n",
              "    </tr>\n",
              "    <tr>\n",
              "      <th>min</th>\n",
              "      <td>0.055390</td>\n",
              "    </tr>\n",
              "    <tr>\n",
              "      <th>25%</th>\n",
              "      <td>0.285200</td>\n",
              "    </tr>\n",
              "    <tr>\n",
              "      <th>50%</th>\n",
              "      <td>0.479300</td>\n",
              "    </tr>\n",
              "    <tr>\n",
              "      <th>75%</th>\n",
              "      <td>0.779800</td>\n",
              "    </tr>\n",
              "    <tr>\n",
              "      <th>max</th>\n",
              "      <td>5.110900</td>\n",
              "    </tr>\n",
              "  </tbody>\n",
              "</table>\n",
              "</div><br><label><b>dtype:</b> float64</label>"
            ]
          },
          "metadata": {},
          "execution_count": 51
        }
      ]
    },
    {
      "cell_type": "code",
      "source": [
        "# Visualisation avec des boîtes à moustaches\n",
        "plt.figure(figsize=(14, 8))\n",
        "df.plot(kind='box', vert=False, patch_artist=True, showfliers=True)\n",
        "plt.xlabel('Valeurs')\n",
        "plt.title('Répartition des variables sans DIFF')\n",
        "plt.show()"
      ],
      "metadata": {
        "colab": {
          "base_uri": "https://localhost:8080/",
          "height": 509
        },
        "id": "1CtReBowndb7",
        "outputId": "f73802d3-4e27-4048-ca0f-f373087d7ba6"
      },
      "execution_count": null,
      "outputs": [
        {
          "output_type": "display_data",
          "data": {
            "text/plain": [
              "<Figure size 1400x800 with 0 Axes>"
            ]
          },
          "metadata": {}
        },
        {
          "output_type": "display_data",
          "data": {
            "text/plain": [
              "<Figure size 640x480 with 1 Axes>"
            ],
            "image/png": "[encoded data removed]"
          },
          "metadata": {}
        }
      ]
    },
    {
      "cell_type": "markdown",
      "source": [
        "# Selection de variables : ACP"
      ],
      "metadata": {
        "id": "N3wSVldHh4Ts"
      }
    },
    {
      "cell_type": "code",
      "source": [
        "from sklearn.preprocessing import StandardScaler\n",
        "\n",
        "# Normalisation des données explicatives\n",
        "scaler = StandardScaler()\n",
        "X_scaled = scaler.fit_transform(X)  # X correspond à vos variables explicatives\n",
        "\n",
        "from sklearn.decomposition import PCA\n",
        "import matplotlib.pyplot as plt\n",
        "import numpy as np\n",
        "\n",
        "# Application de l'ACP\n",
        "pca = PCA()\n",
        "X_pca = pca.fit_transform(X_scaled)\n",
        "\n",
        "# Visualisation de la variance expliquée par composante\n",
        "explained_variance = np.cumsum(pca.explained_variance_ratio_)\n",
        "\n",
        "plt.figure(figsize=(8, 5))\n",
        "plt.plot(range(1, len(explained_variance) + 1), explained_variance, marker='o')\n",
        "plt.axhline(y=0.9, color='r', linestyle='--', label='90% Variance')\n",
        "plt.title('Cumul de la variance expliquée par l\\'ACP')\n",
        "plt.xlabel('Nombre de composantes principales')\n",
        "plt.ylabel('Variance expliquée cumulée')\n",
        "plt.legend()\n",
        "plt.grid()\n",
        "plt.show()\n",
        "\n"
      ],
      "metadata": {
        "colab": {
          "base_uri": "https://localhost:8080/",
          "height": 508
        },
        "id": "pMV5OgVzh_AM",
        "outputId": "f9b682bb-4866-40aa-d5d2-6971504c1730"
      },
      "execution_count": null,
      "outputs": [
        {
          "output_type": "display_data",
          "data": {
            "text/plain": [
              "<Figure size 800x500 with 1 Axes>"
            ],
            "image/png": "[encoded data removed]"
          },
          "metadata": {}
        }
      ]
    },
    {
      "cell_type": "markdown",
      "source": [
        "On decide de garder les 4 premiere composante principale"
      ],
      "metadata": {
        "id": "L9DzkL_3jCgb"
      }
    },
    {
      "cell_type": "code",
      "source": [
        "# Réduction à k composantes principales\n",
        "k = 4\n",
        "pca = PCA(n_components=k)\n",
        "X_reduced = pca.fit_transform(X_scaled)\n",
        "\n",
        "# Charges factorielles : influence des variables sur les composantes principales\n",
        "loadings = pd.DataFrame(pca.components_.T, columns=[f'PC{i+1}' for i in range(k)], index=X.columns)\n",
        "print(loadings)\n",
        "\n"
      ],
      "metadata": {
        "colab": {
          "base_uri": "https://localhost:8080/"
        },
        "id": "hSv3AppSh-hx",
        "outputId": "ee177428-20d8-4e4a-fc57-369f8111dfe7"
      },
      "execution_count": null,
      "outputs": [
        {
          "output_type": "stream",
          "name": "stdout",
          "text": [
            "          PC1       PC2       PC3       PC4\n",
            "R2   0.577125  0.173581  0.054708  0.068211\n",
            "R7  -0.544366 -0.280680 -0.010907 -0.320985\n",
            "R8  -0.018226  0.151393  0.975378 -0.048666\n",
            "R17 -0.300155  0.330537 -0.047593  0.838107\n",
            "R22 -0.085765  0.858470 -0.184788 -0.433040\n",
            "R32  0.522314 -0.148133 -0.095473 -0.001081\n"
          ]
        }
      ]
    },
    {
      "cell_type": "markdown",
      "source": [
        "## Première Partie : Mise en place d’un modèle naïf\n",
        "Pour établir une baseline, nous avons construit un modèle naïf simple afin de prédire si une exploitation agricole est financièrement saine (DIFF = 1) ou défaillante (DIFF = 0).\n",
        "\n",
        "On a décidé de realisé un classificateur de Bayes\n",
        "\n"
      ],
      "metadata": {
        "id": "wXhM2owvZ0eb"
      }
    },
    {
      "cell_type": "code",
      "source": [
        "# Division du dataset en train/test\n",
        "X_train, X_test, y_train, y_test = train_test_split(X_pca, y, test_size=0.2, random_state=42)\n",
        "\n",
        "# Création et entraînement du classificateur Naïve Bayes\n",
        "model = GaussianNB()\n",
        "model.fit(X_train, y_train)\n",
        "\n",
        "# Prédictions\n",
        "y_pred_proba = model.predict_proba(X_test)[:, 1]  # Probabilité d'appartenance à la classe 1 (DIFF = 1)\n",
        "\n",
        "# Calcul de l'AUC\n",
        "auc = roc_auc_score(y_test, y_pred_proba)\n",
        "print(\"AUC du modèle Naïve Bayes avec ACP (k=4) :\", auc)"
      ],
      "metadata": {
        "colab": {
          "base_uri": "https://localhost:8080/"
        },
        "id": "xQwijKKKj7Yf",
        "outputId": "08cd3e56-24b2-4939-a123-66f545d1baf2"
      },
      "execution_count": null,
      "outputs": [
        {
          "output_type": "stream",
          "name": "stdout",
          "text": [
            "AUC du modèle Naïve Bayes avec ACP (k=4) : 0.8966425279789334\n"
          ]
        }
      ]
    },
    {
      "cell_type": "markdown",
      "source": [
        "#KNN"
      ],
      "metadata": {
        "id": "BP-Lxhv-kwpA"
      }
    },
    {
      "cell_type": "code",
      "source": [
        "from sklearn.model_selection import train_test_split, cross_val_score\n",
        "from sklearn.preprocessing import StandardScaler\n",
        "from sklearn.decomposition import PCA\n",
        "from sklearn.neighbors import KNeighborsClassifier\n",
        "from sklearn.metrics import roc_auc_score\n",
        "import numpy as np\n",
        "\n",
        "# Séparation des variables indépendantes (X) et la variable dépendante (y)\n",
        "X = df.drop('DIFF', axis=1)  # Remplacez 'DIFF' par le nom de la colonne cible si différent\n",
        "y = df['DIFF']\n",
        "\n",
        "# Diviser les données en un ensemble de train et un ensemble de test\n",
        "X_train, X_test, y_train, y_test = train_test_split(X, y, test_size=0.2, random_state=42)\n",
        "\n",
        "# Standardiser les features\n",
        "scaler = StandardScaler()\n",
        "X_train_scaled = scaler.fit_transform(X_train)\n",
        "X_test_scaled = scaler.transform(X_test)\n",
        "\n",
        "# Réduction dimensionnelle avec ACP (k=4)\n",
        "pca = PCA(n_components=4)\n",
        "X_train_pca = pca.fit_transform(X_train_scaled)\n",
        "X_test_pca = pca.transform(X_test_scaled)\n",
        "\n",
        "# Recherche du meilleur nombre de voisins (k) à l'aide de la validation croisée\n",
        "best_k = None\n",
        "best_auc = 0\n",
        "k_range = range(1, 31)  # Tester les valeurs de k de 1 à 30\n",
        "\n",
        "for k in k_range:\n",
        "    knn = KNeighborsClassifier(n_neighbors=k)\n",
        "    # Utiliser les données après réduction avec ACP\n",
        "    cv_scores = cross_val_score(knn, X_train_pca, y_train, cv=5, scoring='roc_auc')\n",
        "    mean_auc = np.mean(cv_scores)\n",
        "    print(f\"k={k}, Validation croisée AUC moyenne : {mean_auc:.4f} ± {np.std(cv_scores):.4f}\")\n",
        "\n",
        "    if mean_auc > best_auc:\n",
        "        best_k = k\n",
        "        best_auc = mean_auc\n",
        "\n",
        "print(f\"Meilleur k : {best_k} avec une AUC moyenne de validation croisée de {best_auc:.4f}\")\n",
        "\n",
        "# Évaluer le modèle KNN avec le meilleur k sur l'ensemble de test\n",
        "knn_best = KNeighborsClassifier(n_neighbors=best_k)\n",
        "knn_best.fit(X_train_pca, y_train)\n",
        "y_test_proba = knn_best.predict_proba(X_test_pca)[:, 1]\n",
        "test_auc = roc_auc_score(y_test, y_test_proba)\n",
        "print(f\"AUC sur l'ensemble de test avec k={best_k} : {test_auc:.4f}\")\n"
      ],
      "metadata": {
        "colab": {
          "base_uri": "https://localhost:8080/"
        },
        "id": "Jhw13NuJkyYR",
        "outputId": "2a1ad125-1326-4810-d0b9-6889d0f320ab"
      },
      "execution_count": null,
      "outputs": [
        {
          "output_type": "stream",
          "name": "stdout",
          "text": [
            "k=1, Validation croisée AUC moyenne : 0.7653 ± 0.0457\n",
            "k=2, Validation croisée AUC moyenne : 0.8289 ± 0.0090\n",
            "k=3, Validation croisée AUC moyenne : 0.8712 ± 0.0262\n",
            "k=4, Validation croisée AUC moyenne : 0.8765 ± 0.0216\n",
            "k=5, Validation croisée AUC moyenne : 0.8803 ± 0.0196\n",
            "k=6, Validation croisée AUC moyenne : 0.8835 ± 0.0205\n",
            "k=7, Validation croisée AUC moyenne : 0.8828 ± 0.0251\n",
            "k=8, Validation croisée AUC moyenne : 0.8790 ± 0.0253\n",
            "k=9, Validation croisée AUC moyenne : 0.8795 ± 0.0213\n",
            "k=10, Validation croisée AUC moyenne : 0.8834 ± 0.0204\n",
            "k=11, Validation croisée AUC moyenne : 0.8883 ± 0.0209\n",
            "k=12, Validation croisée AUC moyenne : 0.8843 ± 0.0196\n",
            "k=13, Validation croisée AUC moyenne : 0.8846 ± 0.0199\n",
            "k=14, Validation croisée AUC moyenne : 0.8845 ± 0.0193\n",
            "k=15, Validation croisée AUC moyenne : 0.8861 ± 0.0192\n",
            "k=16, Validation croisée AUC moyenne : 0.8871 ± 0.0215\n",
            "k=17, Validation croisée AUC moyenne : 0.8883 ± 0.0214\n",
            "k=18, Validation croisée AUC moyenne : 0.8893 ± 0.0217\n",
            "k=19, Validation croisée AUC moyenne : 0.8896 ± 0.0209\n",
            "k=20, Validation croisée AUC moyenne : 0.8878 ± 0.0221\n",
            "k=21, Validation croisée AUC moyenne : 0.8919 ± 0.0207\n",
            "k=22, Validation croisée AUC moyenne : 0.8924 ± 0.0196\n",
            "k=23, Validation croisée AUC moyenne : 0.8914 ± 0.0166\n",
            "k=24, Validation croisée AUC moyenne : 0.8932 ± 0.0180\n",
            "k=25, Validation croisée AUC moyenne : 0.8933 ± 0.0178\n",
            "k=26, Validation croisée AUC moyenne : 0.8922 ± 0.0192\n",
            "k=27, Validation croisée AUC moyenne : 0.8934 ± 0.0168\n",
            "k=28, Validation croisée AUC moyenne : 0.8940 ± 0.0177\n",
            "k=29, Validation croisée AUC moyenne : 0.8969 ± 0.0166\n",
            "k=30, Validation croisée AUC moyenne : 0.8969 ± 0.0155\n",
            "Meilleur k : 29 avec une AUC moyenne de validation croisée de 0.8969\n",
            "AUC sur l'ensemble de test avec k=29 : 0.9001\n"
          ]
        }
      ]
    },
    {
      "cell_type": "code",
      "source": [
        "# Entraîner le modèle avec le meilleur k sur l'ensemble d'entraînement complet\n",
        "knn = KNeighborsClassifier(n_neighbors=best_k)\n",
        "knn.fit(X_train_scaled, y_train)\n",
        "\n",
        "# Prédictions sur les données de test\n",
        "y_pred_proba = knn.predict_proba(X_test_scaled)[:, 1]  # Proba pour la classe 1\n",
        "\n",
        "# Calculer l'AUC sur l'ensemble de test\n",
        "auc = roc_auc_score(y_test, y_pred_proba)\n",
        "print(f'AUC sur l\\'ensemble de test avec k={best_k} : {auc:.4f}')"
      ],
      "metadata": {
        "colab": {
          "base_uri": "https://localhost:8080/"
        },
        "id": "8bp34Tf9lOub",
        "outputId": "bef979a2-7f9f-4a28-ae70-5c0ab9ecdce0"
      },
      "execution_count": null,
      "outputs": [
        {
          "output_type": "stream",
          "name": "stdout",
          "text": [
            "AUC sur l'ensemble de test avec k=29 : 0.8623\n"
          ]
        }
      ]
    },
    {
      "cell_type": "markdown",
      "source": [
        "Les KNN (k-Nearest Neighbors) ne fournissent pas directement de probabilités, car leur fonctionnement repose sur la proximité entre les points dans l’espace des features. Cependant, ils permettent de générer les probabilités nécessaires au calcul de l’AUC grâce à une méthode simple. Pour chaque observation, le modèle identifie ses k voisins les plus proches et calcule la probabilité d’appartenance à une classe comme étant la proportion des voisins appartenant à cette classe. Par exemple, si k = 5 et que 3 des 5 voisins appartiennent à la classe positive, alors la probabilité d’appartenance à cette classe est de 0,6.\n",
        "\n",
        "Ces probabilités sont ensuite utilisées pour tracer la courbe ROC, et l’AUC est déterminée comme l’aire sous cette courbe. L’AUC permet de mesurer la capacité du modèle à différencier les classes positives et négatives. Ainsi, les probabilités calculées par les KNN reflètent simplement la proportion de voisins associés à chaque classe."
      ],
      "metadata": {
        "id": "8wl5zDcGllmS"
      }
    },
    {
      "cell_type": "markdown",
      "source": [
        "# Regression logistique\n"
      ],
      "metadata": {
        "id": "0bdbY5VemFje"
      }
    },
    {
      "cell_type": "code",
      "source": [
        "# Définir la grille d'hyperparamètres\n",
        "param_grid = {\n",
        "    'penalty': ['l1', 'l2', 'elasticnet'],\n",
        "    'C': [0.01, 0.1, 1, 10],\n",
        "    'solver': ['saga', 'liblinear', 'lbfgs'],\n",
        "    'max_iter': [100, 200, 500],\n",
        "}"
      ],
      "metadata": {
        "id": "67WCfA7Bl0iH"
      },
      "execution_count": null,
      "outputs": []
    },
    {
      "cell_type": "code",
      "source": [
        "# Séparation des données des ensembles d'entraînement et de test\n",
        "X_train, X_val, y_train, y_val = train_test_split(X, y, test_size=0.2, random_state=42)\n",
        "\n",
        "# Initialiser le modèle\n",
        "model = LogisticRegression()\n",
        "\n",
        "# Recherche de grille\n",
        "grid_search = GridSearchCV(model, param_grid, scoring='roc_auc', cv=5, verbose=1)\n",
        "grid_search.fit(X_train, y_train)\n",
        "\n",
        "# Meilleurs paramètres et score\n",
        "print(\"Meilleurs paramètres :\", grid_search.best_params_)\n",
        "print(\"Meilleure AUC :\", grid_search.best_score_)\n",
        "\n",
        "# Prédictions sur le jeu de validation\n",
        "best_model = grid_search.best_estimator_\n",
        "y_pred_proba = best_model.predict_proba(X_val)[:, 1]\n",
        "\n",
        "# Tracé de la courbe ROC\n",
        "fpr, tpr, thresholds = roc_curve(y_val, y_pred_proba)\n",
        "auc = roc_auc_score(y_val, y_pred_proba)\n",
        "\n",
        "plt.figure(figsize=(8, 6))\n",
        "plt.plot(fpr, tpr, label=f'Courbe ROC (AUC = {auc:.2f})')\n",
        "plt.plot([0, 1], [0, 1], 'k--', label='Guess aléatoire')\n",
        "plt.xlabel('Taux de Faux Positifs')\n",
        "plt.ylabel('Taux de Vrais Positifs')\n",
        "plt.title('Courbe ROC')\n",
        "plt.legend()\n",
        "plt.show()"
      ],
      "metadata": {
        "colab": {
          "base_uri": "https://localhost:8080/",
          "height": 1000
        },
        "id": "W15t9WZloNj2",
        "outputId": "befc44ee-e413-4510-dabf-ff3839852080"
      },
      "execution_count": null,
      "outputs": [
        {
          "output_type": "stream",
          "name": "stdout",
          "text": [
            "Fitting 5 folds for each of 108 candidates, totalling 540 fits\n"
          ]
        },
        {
          "output_type": "stream",
          "name": "stderr",
          "text": [
            "/usr/local/lib/python3.10/dist-packages/sklearn/linear_model/_sag.py:349: ConvergenceWarning: The max_iter was reached which means the coef_ did not converge\n",
            "  warnings.warn(\n",
            "/usr/local/lib/python3.10/dist-packages/sklearn/linear_model/_sag.py:349: ConvergenceWarning: The max_iter was reached which means the coef_ did not converge\n",
            "  warnings.warn(\n",
            "/usr/local/lib/python3.10/dist-packages/sklearn/linear_model/_sag.py:349: ConvergenceWarning: The max_iter was reached which means the coef_ did not converge\n",
            "  warnings.warn(\n",
            "/usr/local/lib/python3.10/dist-packages/sklearn/linear_model/_sag.py:349: ConvergenceWarning: The max_iter was reached which means the coef_ did not converge\n",
            "  warnings.warn(\n",
            "/usr/local/lib/python3.10/dist-packages/sklearn/linear_model/_sag.py:349: ConvergenceWarning: The max_iter was reached which means the coef_ did not converge\n",
            "  warnings.warn(\n",
            "/usr/local/lib/python3.10/dist-packages/sklearn/linear_model/_sag.py:349: ConvergenceWarning: The max_iter was reached which means the coef_ did not converge\n",
            "  warnings.warn(\n",
            "/usr/local/lib/python3.10/dist-packages/sklearn/linear_model/_sag.py:349: ConvergenceWarning: The max_iter was reached which means the coef_ did not converge\n",
            "  warnings.warn(\n",
            "/usr/local/lib/python3.10/dist-packages/sklearn/linear_model/_sag.py:349: ConvergenceWarning: The max_iter was reached which means the coef_ did not converge\n",
            "  warnings.warn(\n",
            "/usr/local/lib/python3.10/dist-packages/sklearn/linear_model/_sag.py:349: ConvergenceWarning: The max_iter was reached which means the coef_ did not converge\n",
            "  warnings.warn(\n",
            "/usr/local/lib/python3.10/dist-packages/sklearn/linear_model/_sag.py:349: ConvergenceWarning: The max_iter was reached which means the coef_ did not converge\n",
            "  warnings.warn(\n",
            "/usr/local/lib/python3.10/dist-packages/sklearn/linear_model/_sag.py:349: ConvergenceWarning: The max_iter was reached which means the coef_ did not converge\n",
            "  warnings.warn(\n",
            "/usr/local/lib/python3.10/dist-packages/sklearn/linear_model/_sag.py:349: ConvergenceWarning: The max_iter was reached which means the coef_ did not converge\n",
            "  warnings.warn(\n",
            "/usr/local/lib/python3.10/dist-packages/sklearn/linear_model/_sag.py:349: ConvergenceWarning: The max_iter was reached which means the coef_ did not converge\n",
            "  warnings.warn(\n",
            "/usr/local/lib/python3.10/dist-packages/sklearn/linear_model/_sag.py:349: ConvergenceWarning: The max_iter was reached which means the coef_ did not converge\n",
            "  warnings.warn(\n",
            "/usr/local/lib/python3.10/dist-packages/sklearn/linear_model/_sag.py:349: ConvergenceWarning: The max_iter was reached which means the coef_ did not converge\n",
            "  warnings.warn(\n",
            "/usr/local/lib/python3.10/dist-packages/sklearn/linear_model/_sag.py:349: ConvergenceWarning: The max_iter was reached which means the coef_ did not converge\n",
            "  warnings.warn(\n",
            "/usr/local/lib/python3.10/dist-packages/sklearn/linear_model/_sag.py:349: ConvergenceWarning: The max_iter was reached which means the coef_ did not converge\n",
            "  warnings.warn(\n",
            "/usr/local/lib/python3.10/dist-packages/sklearn/linear_model/_sag.py:349: ConvergenceWarning: The max_iter was reached which means the coef_ did not converge\n",
            "  warnings.warn(\n",
            "/usr/local/lib/python3.10/dist-packages/sklearn/linear_model/_sag.py:349: ConvergenceWarning: The max_iter was reached which means the coef_ did not converge\n",
            "  warnings.warn(\n",
            "/usr/local/lib/python3.10/dist-packages/sklearn/linear_model/_sag.py:349: ConvergenceWarning: The max_iter was reached which means the coef_ did not converge\n",
            "  warnings.warn(\n",
            "/usr/local/lib/python3.10/dist-packages/sklearn/linear_model/_sag.py:349: ConvergenceWarning: The max_iter was reached which means the coef_ did not converge\n",
            "  warnings.warn(\n",
            "/usr/local/lib/python3.10/dist-packages/sklearn/linear_model/_sag.py:349: ConvergenceWarning: The max_iter was reached which means the coef_ did not converge\n",
            "  warnings.warn(\n",
            "/usr/local/lib/python3.10/dist-packages/sklearn/linear_model/_sag.py:349: ConvergenceWarning: The max_iter was reached which means the coef_ did not converge\n",
            "  warnings.warn(\n",
            "/usr/local/lib/python3.10/dist-packages/sklearn/linear_model/_sag.py:349: ConvergenceWarning: The max_iter was reached which means the coef_ did not converge\n",
            "  warnings.warn(\n",
            "/usr/local/lib/python3.10/dist-packages/sklearn/linear_model/_sag.py:349: ConvergenceWarning: The max_iter was reached which means the coef_ did not converge\n",
            "  warnings.warn(\n",
            "/usr/local/lib/python3.10/dist-packages/sklearn/linear_model/_sag.py:349: ConvergenceWarning: The max_iter was reached which means the coef_ did not converge\n",
            "  warnings.warn(\n",
            "/usr/local/lib/python3.10/dist-packages/sklearn/linear_model/_sag.py:349: ConvergenceWarning: The max_iter was reached which means the coef_ did not converge\n",
            "  warnings.warn(\n",
            "/usr/local/lib/python3.10/dist-packages/sklearn/linear_model/_sag.py:349: ConvergenceWarning: The max_iter was reached which means the coef_ did not converge\n",
            "  warnings.warn(\n",
            "/usr/local/lib/python3.10/dist-packages/sklearn/linear_model/_sag.py:349: ConvergenceWarning: The max_iter was reached which means the coef_ did not converge\n",
            "  warnings.warn(\n",
            "/usr/local/lib/python3.10/dist-packages/sklearn/linear_model/_sag.py:349: ConvergenceWarning: The max_iter was reached which means the coef_ did not converge\n",
            "  warnings.warn(\n",
            "/usr/local/lib/python3.10/dist-packages/sklearn/linear_model/_sag.py:349: ConvergenceWarning: The max_iter was reached which means the coef_ did not converge\n",
            "  warnings.warn(\n",
            "/usr/local/lib/python3.10/dist-packages/sklearn/linear_model/_sag.py:349: ConvergenceWarning: The max_iter was reached which means the coef_ did not converge\n",
            "  warnings.warn(\n",
            "/usr/local/lib/python3.10/dist-packages/sklearn/linear_model/_sag.py:349: ConvergenceWarning: The max_iter was reached which means the coef_ did not converge\n",
            "  warnings.warn(\n",
            "/usr/local/lib/python3.10/dist-packages/sklearn/model_selection/_validation.py:540: FitFailedWarning: \n",
            "240 fits failed out of a total of 540.\n",
            "The score on these train-test partitions for these parameters will be set to nan.\n",
            "If these failures are not expected, you can try to debug them by setting error_score='raise'.\n",
            "\n",
            "Below are more details about the failures:\n",
            "--------------------------------------------------------------------------------\n",
            "60 fits failed with the following error:\n",
            "Traceback (most recent call last):\n",
            "  File \"/usr/local/lib/python3.10/dist-packages/sklearn/model_selection/_validation.py\", line 888, in _fit_and_score\n",
            "    estimator.fit(X_train, y_train, **fit_params)\n",
            "  File \"/usr/local/lib/python3.10/dist-packages/sklearn/base.py\", line 1473, in wrapper\n",
            "    return fit_method(estimator, *args, **kwargs)\n",
            "  File \"/usr/local/lib/python3.10/dist-packages/sklearn/linear_model/_logistic.py\", line 1194, in fit\n",
            "    solver = _check_solver(self.solver, self.penalty, self.dual)\n",
            "  File \"/usr/local/lib/python3.10/dist-packages/sklearn/linear_model/_logistic.py\", line 67, in _check_solver\n",
            "    raise ValueError(\n",
            "ValueError: Solver lbfgs supports only 'l2' or None penalties, got l1 penalty.\n",
            "\n",
            "--------------------------------------------------------------------------------\n",
            "60 fits failed with the following error:\n",
            "Traceback (most recent call last):\n",
            "  File \"/usr/local/lib/python3.10/dist-packages/sklearn/model_selection/_validation.py\", line 888, in _fit_and_score\n",
            "    estimator.fit(X_train, y_train, **fit_params)\n",
            "  File \"/usr/local/lib/python3.10/dist-packages/sklearn/base.py\", line 1473, in wrapper\n",
            "    return fit_method(estimator, *args, **kwargs)\n",
            "  File \"/usr/local/lib/python3.10/dist-packages/sklearn/linear_model/_logistic.py\", line 1204, in fit\n",
            "    raise ValueError(\"l1_ratio must be specified when penalty is elasticnet.\")\n",
            "ValueError: l1_ratio must be specified when penalty is elasticnet.\n",
            "\n",
            "--------------------------------------------------------------------------------\n",
            "60 fits failed with the following error:\n",
            "Traceback (most recent call last):\n",
            "  File \"/usr/local/lib/python3.10/dist-packages/sklearn/model_selection/_validation.py\", line 888, in _fit_and_score\n",
            "    estimator.fit(X_train, y_train, **fit_params)\n",
            "  File \"/usr/local/lib/python3.10/dist-packages/sklearn/base.py\", line 1473, in wrapper\n",
            "    return fit_method(estimator, *args, **kwargs)\n",
            "  File \"/usr/local/lib/python3.10/dist-packages/sklearn/linear_model/_logistic.py\", line 1194, in fit\n",
            "    solver = _check_solver(self.solver, self.penalty, self.dual)\n",
            "  File \"/usr/local/lib/python3.10/dist-packages/sklearn/linear_model/_logistic.py\", line 75, in _check_solver\n",
            "    raise ValueError(\n",
            "ValueError: Only 'saga' solver supports elasticnet penalty, got solver=liblinear.\n",
            "\n",
            "--------------------------------------------------------------------------------\n",
            "60 fits failed with the following error:\n",
            "Traceback (most recent call last):\n",
            "  File \"/usr/local/lib/python3.10/dist-packages/sklearn/model_selection/_validation.py\", line 888, in _fit_and_score\n",
            "    estimator.fit(X_train, y_train, **fit_params)\n",
            "  File \"/usr/local/lib/python3.10/dist-packages/sklearn/base.py\", line 1473, in wrapper\n",
            "    return fit_method(estimator, *args, **kwargs)\n",
            "  File \"/usr/local/lib/python3.10/dist-packages/sklearn/linear_model/_logistic.py\", line 1194, in fit\n",
            "    solver = _check_solver(self.solver, self.penalty, self.dual)\n",
            "  File \"/usr/local/lib/python3.10/dist-packages/sklearn/linear_model/_logistic.py\", line 67, in _check_solver\n",
            "    raise ValueError(\n",
            "ValueError: Solver lbfgs supports only 'l2' or None penalties, got elasticnet penalty.\n",
            "\n",
            "  warnings.warn(some_fits_failed_message, FitFailedWarning)\n",
            "/usr/local/lib/python3.10/dist-packages/sklearn/model_selection/_search.py:1103: UserWarning: One or more of the test scores are non-finite: [0.5        0.5               nan 0.84360282 0.8480028  0.8434008\n",
            "        nan        nan        nan 0.5        0.5               nan\n",
            " 0.84340674 0.8480028  0.8434008         nan        nan        nan\n",
            " 0.5        0.5               nan 0.84360282 0.8480028  0.8434008\n",
            "        nan        nan        nan 0.85877197 0.84928967        nan\n",
            " 0.86356928 0.8615669  0.86356928        nan        nan        nan\n",
            " 0.85877197 0.84928967        nan 0.86356928 0.8615669  0.86356928\n",
            "        nan        nan        nan 0.85877197 0.84928967        nan\n",
            " 0.86356928 0.8615669  0.86356928        nan        nan        nan\n",
            " 0.92908957 0.93028923        nan 0.90645832 0.90147835 0.90666034\n",
            "        nan        nan        nan 0.93088877 0.93028923        nan\n",
            " 0.90645832 0.90147835 0.90666034        nan        nan        nan\n",
            " 0.9312863  0.93028923        nan 0.90645832 0.90147835 0.90666034\n",
            "        nan        nan        nan 0.93006057 0.9322757         nan\n",
            " 0.9282673  0.92925843 0.92985912        nan        nan        nan\n",
            " 0.93347594 0.9322757         nan 0.92985318 0.92925843 0.92985912\n",
            "        nan        nan        nan 0.93266728 0.9322757         nan\n",
            " 0.9296571  0.92925843 0.92985912        nan        nan        nan]\n",
            "  warnings.warn(\n",
            "/usr/local/lib/python3.10/dist-packages/sklearn/linear_model/_sag.py:349: ConvergenceWarning: The max_iter was reached which means the coef_ did not converge\n",
            "  warnings.warn(\n"
          ]
        },
        {
          "output_type": "stream",
          "name": "stdout",
          "text": [
            "Meilleurs paramètres : {'C': 10, 'max_iter': 200, 'penalty': 'l1', 'solver': 'saga'}\n",
            "Meilleure AUC : 0.9334759358288771\n"
          ]
        },
        {
          "output_type": "display_data",
          "data": {
            "text/plain": [
              "<Figure size 800x600 with 1 Axes>"
            ],
            "image/png": "[encoded data removed]"
          },
          "metadata": {}
        }
      ]
    },
    {
      "cell_type": "code",
      "source": [],
      "metadata": {
        "id": "NuF0wjgCpRV8"
      },
      "execution_count": null,
      "outputs": []
    }
  ]
}
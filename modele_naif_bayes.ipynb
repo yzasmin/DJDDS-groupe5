{
  "nbformat": 4,
  "nbformat_minor": 0,
  "metadata": {
    "colab": {
      "provenance": []
    },
    "kernelspec": {
      "name": "python3",
      "display_name": "Python 3"
    },
    "language_info": {
      "name": "python"
    }
  },
  "cells": [
    {
      "cell_type": "markdown",
      "source": [
        "## Première Partie : Mise en place d’un modèle naïf\n",
        "Pour établir une baseline, nous avons construit un modèle naïf simple afin de prédire si une exploitation agricole est financièrement saine (DIFF = 1) ou défaillante (DIFF = 0). Deux approches ont été retenues :\n"
      ],
      "metadata": {
        "id": "wXhM2owvZ0eb"
      }
    },
    {
      "cell_type": "code",
      "execution_count": 4,
      "metadata": {
        "colab": {
          "base_uri": "https://localhost:8080/"
        },
        "id": "9VyK2_DJWSMr",
        "outputId": "f07bcf1e-8344-488c-c343-65f6d0552ea9"
      },
      "outputs": [
        {
          "output_type": "stream",
          "name": "stdout",
          "text": [
            "AUC du modèle Naïve Bayes : 0.8782093482554312\n"
          ]
        }
      ],
      "source": [
        "import pandas as pd\n",
        "from sklearn.model_selection import train_test_split\n",
        "from sklearn.naive_bayes import GaussianNB\n",
        "from sklearn.metrics import roc_auc_score\n",
        "\n",
        "# Étape 1 : Chargement des données\n",
        "df = pd.read_csv(\"/content/farms_train.csv\", sep=\";\")\n",
        "df = df.replace(',', '.', regex=True)\n",
        "\n",
        "# Étape 2 : Séparer les variables explicatives de la cible\n",
        "X = df[['R2', 'R7', 'R8', 'R17', 'R22', 'R32']]\n",
        "y = df['DIFF']\n",
        "\n",
        "# Étape 3 : Division du dataset en train/test\n",
        "X_train, X_test, y_train, y_test = train_test_split(X, y, test_size=0.2, random_state=42)\n",
        "\n",
        "# Étape 4 : Création et entraînement du classificateur Naïve Bayes\n",
        "model = GaussianNB()\n",
        "model.fit(X_train, y_train)\n",
        "\n",
        "# Étape 5 : Prédictions\n",
        "y_pred_proba = model.predict_proba(X_test)[:, 1]  # Probabilité d'appartenance à la classe 1 (DIFF = 1)\n",
        "\n",
        "# Étape 6 : Calcul de l'AUC\n",
        "auc = roc_auc_score(y_test, y_pred_proba)\n",
        "print(\"AUC du modèle Naïve Bayes :\", auc)\n"
      ]
    },
    {
      "cell_type": "code",
      "source": [],
      "metadata": {
        "id": "GYNlRnIKZHVT"
      },
      "execution_count": null,
      "outputs": []
    }
  ]
}